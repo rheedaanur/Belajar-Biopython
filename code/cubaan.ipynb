{
 "cells": [
  {
   "cell_type": "code",
   "execution_count": 2,
   "metadata": {},
   "outputs": [],
   "source": [
    "NukleotidaDNA = [\"A\",\"T\",\"C\",\"G\"]\n",
    "\n",
    "# \"GAKDAKCNAIWFHHDAOEFJWWODHWHFWO\" setiap huruf ada tak dalam NukleotidaDNA?\n",
    "\n",
    "def validate_string(DNAstr):\n",
    "\n",
    "    \"\"\" \n",
    "    \n",
    "    Documentation string\n",
    "    Pastikan string tersebut ialah DNA\n",
    "\n",
    "    :input(params) DNAstr: String yang nak disahkan\n",
    "\n",
    "    :return:\n",
    "    \n",
    "    \"\"\"\n",
    "\n",
    "    for nuc in DNAstr:\n",
    "        if nuc in NukleotidaDNA:            #jika item ada dalam senarai, dikira True\n",
    "            #Kalau DNA, kita return balik DNA tu.\n",
    "            result= DNAstr\n",
    "        else:\n",
    "            #Kalau bukan DNA nak buat apa?\n",
    "            result = False           #Maksudnya dia bukan DNA dan putuskan loop\n",
    "            break\n",
    "\n",
    "    return result"
   ]
  },
  {
   "cell_type": "code",
   "execution_count": 6,
   "metadata": {},
   "outputs": [
    {
     "data": {
      "text/plain": [
       "False"
      ]
     },
     "execution_count": 6,
     "metadata": {},
     "output_type": "execute_result"
    }
   ],
   "source": [
    "DNA_cubaan= \"ABSAHDAFHFAHSJ\"\n",
    "\n",
    "validate_string(DNA_cubaan)"
   ]
  },
  {
   "cell_type": "code",
   "execution_count": 4,
   "metadata": {},
   "outputs": [
    {
     "data": {
      "text/plain": [
       "'ATCGGGGATAGAGAGA'"
      ]
     },
     "execution_count": 4,
     "metadata": {},
     "output_type": "execute_result"
    }
   ],
   "source": [
    "DNA_cubaan_betul= \"ATCGGGGATAGAGAGA\"\n",
    "\n",
    "validate_string(DNA_cubaan_betul)"
   ]
  }
 ],
 "metadata": {
  "interpreter": {
   "hash": "f9a665eed82786d1db64405b5cfd0f8037f4571b806793cb1072a84e044fc7ff"
  },
  "kernelspec": {
   "display_name": "Python 3.9.6 64-bit",
   "name": "python3"
  },
  "language_info": {
   "codemirror_mode": {
    "name": "ipython",
    "version": 3
   },
   "file_extension": ".py",
   "mimetype": "text/x-python",
   "name": "python",
   "nbconvert_exporter": "python",
   "pygments_lexer": "ipython3",
   "version": "3.9.6"
  },
  "orig_nbformat": 4
 },
 "nbformat": 4,
 "nbformat_minor": 2
}
